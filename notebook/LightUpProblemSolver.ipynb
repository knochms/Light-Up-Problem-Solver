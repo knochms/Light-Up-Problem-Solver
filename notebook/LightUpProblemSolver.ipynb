{
 "cells": [
  {
   "cell_type": "markdown",
   "id": "2f0ce55e",
   "metadata": {},
   "source": [
    "# Light Up Problem Solver\n",
    "\n",
    "3 zentrale Algorithmen\n",
    " - 1: Safe Case Algorithm\n",
    " - 2: Depth-First Search (Backtrack) Algorithm\n",
    " - 3: No Numers left Algorithmus (Light up all white fields left)"
   ]
  },
  {
   "cell_type": "markdown",
   "id": "d17a0726",
   "metadata": {},
   "source": [
    "Create Board:"
   ]
  },
  {
   "cell_type": "code",
   "execution_count": 1,
   "id": "730c243f",
   "metadata": {},
   "outputs": [],
   "source": [
    "# Global Variables\n",
    "\n",
    "# This board holds initial information of the board.\n",
    "# It get updated only with safe information.\n",
    "board_dict = {}\n",
    "\n",
    "# Size of the board (e.g. board_size=5 -> 5x5 Matrix)\n",
    "board_size = 0\n",
    "\n",
    "board_dict2 = {}"
   ]
  },
  {
   "cell_type": "code",
   "execution_count": 2,
   "id": "0f3441ea",
   "metadata": {},
   "outputs": [],
   "source": [
    "import math\n",
    "\n",
    "def create_board(board):\n",
    "    print(\"Displaying Board:\\n\")\n",
    "    board_separation_size = 7; #'F(x,y)W' has 7 characters\n",
    "    \n",
    "    # Save all coodinates of the fields and their value in a dictionary\n",
    "    for i in range(0, len(board), board_separation_size):\n",
    "\n",
    "        x = int(board[i:i+board_separation_size][2])\n",
    "        y = int(board[i:i+board_separation_size][4])\n",
    "        xy = (x,y)\n",
    "        \n",
    "        value = board[i:i+board_separation_size][6]\n",
    "        \n",
    "        board_dict[xy] = value\n",
    "    \n",
    "    \n",
    "    board_size = math.sqrt(len(board_dict))\n",
    "    i = 1\n",
    "    # print the board with the specific value of the fields\n",
    "    for value in board_dict.values():\n",
    "        if \"W\" in value:\n",
    "            value = \" \"\n",
    "        if (i % board_size != 0):\n",
    "            print(\"|\", value, sep='', end ='')\n",
    "        else:\n",
    "            print(\"|\", value, \"|\", sep='')\n",
    "        i += 1\n",
    "        "
   ]
  },
  {
   "cell_type": "markdown",
   "id": "a0a71f5d",
   "metadata": {},
   "source": [
    "Safe Case Algorithm:"
   ]
  },
  {
   "cell_type": "code",
   "execution_count": 3,
   "id": "a657c210",
   "metadata": {},
   "outputs": [],
   "source": [
    "def safe_case_algorithm():\n",
    "    for coordinate, value in board_dict2.items():\n",
    "        if(value == '4'):\n",
    "            place_lights(coordinate)\n",
    "    \n",
    "    # validate_board() am Schluss\n",
    "    \n",
    "            \n",
    "def place_lights(coordinate):\n",
    "    print(coordinate)  # (1,6)\n",
    "    above = (coordinate[0], coordinate[1]-1)\n",
    "    left  = (coordinate[0]-1, coordinate[1])\n",
    "    below = (coordinate[0], coordinate[1]+1)\n",
    "    right = (coordinate[0]+1, coordinate[1])\n",
    "    \n",
    "    print(above,left,below,right)\n",
    "    print(board_dict2.get(above))\n",
    "    \n",
    "    if(board_dict2.get(above) == 'W'):\n",
    "        print(\"Yes\")\n",
    "        #place_light_and_light_up(board_dict2.get(above))\n",
    "        \n",
    "    # validate_board() am Schluss von jedem Case\n",
    "    \n",
    "#def place_light_and_light_up():\n",
    "    # Todo\n",
    "    \n",
    "    \n",
    "    "
   ]
  },
  {
   "cell_type": "code",
   "execution_count": 4,
   "id": "e342b4da",
   "metadata": {},
   "outputs": [],
   "source": [
    "#print(board_dict2)"
   ]
  },
  {
   "cell_type": "markdown",
   "id": "94b5595c",
   "metadata": {},
   "source": [
    " "
   ]
  },
  {
   "cell_type": "markdown",
   "id": "26ff015c",
   "metadata": {},
   "source": [
    " "
   ]
  },
  {
   "cell_type": "code",
   "execution_count": 5,
   "id": "0b786c42",
   "metadata": {},
   "outputs": [
    {
     "name": "stdout",
     "output_type": "stream",
     "text": [
      "Displaying Board:\n",
      "\n",
      "| | | | |1|0| | | |1|\n",
      "| |0|S| | | |1| | | |\n",
      "| | | |S| | |1| | | |\n",
      "|S| | |2| | | | |1| |\n",
      "|S| | | | |0| |S| | |\n",
      "| | |S| |1| | | | |S|\n",
      "| |4| | | | |2| | |S|\n",
      "| | | |S| | |1| | | |\n",
      "| | | |2| | | |S|3| |\n",
      "|S| | | |S|S| | | | |\n"
     ]
    }
   ],
   "source": [
    "# Example from: https://www.janko.at/Raetsel/Akari/002.a.htm\n",
    "# TODO: Anleitung änderung an der Matrixkodierung\n",
    "\n",
    "board_string1 = 'F(0,0)WF(1,0)WF(2,0)WF(3,0)WF(4,0)1F(5,0)0F(6,0)WF(7,0)WF(8,0)WF(9,0)1F(0,1)WF(1,1)0F(2,1)SF(3,1)WF(4,1)WF(5,1)WF(6,1)1F(7,1)WF(8,1)WF(9,1)WF(0,2)WF(1,2)WF(2,2)WF(3,2)SF(4,2)WF(5,2)WF(6,2)1F(7,2)WF(8,2)WF(9,2)WF(0,3)SF(1,3)WF(2,3)WF(3,3)2F(4,3)WF(5,3)WF(6,3)WF(7,3)WF(8,3)1F(9,3)WF(0,4)SF(1,4)WF(2,4)WF(3,4)WF(4,4)WF(5,4)0F(6,4)WF(7,4)SF(8,4)WF(9,4)WF(0,5)WF(1,5)WF(2,5)SF(3,5)WF(4,5)1F(5,5)WF(6,5)WF(7,5)WF(8,5)WF(9,5)SF(0,6)WF(1,6)4F(2,6)WF(3,6)WF(4,6)WF(5,6)WF(6,6)2F(7,6)WF(8,6)WF(9,6)SF(0,7)WF(1,7)WF(2,7)WF(3,7)SF(4,7)WF(5,7)WF(6,7)1F(7,7)WF(8,7)WF(9,7)WF(0,8)WF(1,8)WF(2,8)WF(3,8)2F(4,8)WF(5,8)WF(6,8)WF(7,8)SF(8,8)3F(9,8)WF(0,9)SF(1,9)WF(2,9)WF(3,9)WF(4,9)SF(5,9)SF(6,9)WF(7,9)WF(8,9)WF(9,9)W'\n",
    "create_board(board_string1)"
   ]
  },
  {
   "cell_type": "code",
   "execution_count": 6,
   "id": "df6823a0",
   "metadata": {},
   "outputs": [
    {
     "name": "stdout",
     "output_type": "stream",
     "text": [
      "(1, 6)\n",
      "(1, 5) (0, 6) (1, 7) (2, 6)\n",
      "W\n",
      "Yes\n"
     ]
    }
   ],
   "source": [
    "board_dict2 = board_dict.copy()\n",
    "safe_case_algorithm()"
   ]
  },
  {
   "cell_type": "code",
   "execution_count": null,
   "id": "ad626e9d",
   "metadata": {},
   "outputs": [],
   "source": []
  },
  {
   "cell_type": "markdown",
   "id": "16f3d618",
   "metadata": {},
   "source": [
    " "
   ]
  },
  {
   "cell_type": "markdown",
   "id": "abd79d74",
   "metadata": {},
   "source": [
    " "
   ]
  },
  {
   "cell_type": "markdown",
   "id": "694cc78f",
   "metadata": {},
   "source": [
    "# Testing Stuff:"
   ]
  },
  {
   "cell_type": "code",
   "execution_count": 7,
   "id": "2785f0a1",
   "metadata": {},
   "outputs": [
    {
     "name": "stdout",
     "output_type": "stream",
     "text": [
      "{(0, 0): 'W', (0, 1): 'S', (0, 2): '3', (0, 3): '0'}\n",
      "<class 'dict'>\n",
      "S\n",
      "------\n",
      "\n",
      "key: (0, 0) , value: W\n",
      "type of key: <class 'tuple'> , type of value: <class 'str'>\n",
      "type of variables in tuple: <class 'int'> and <class 'int'>\n",
      "\n",
      "\n",
      "key: (0, 1) , value: S\n",
      "type of key: <class 'tuple'> , type of value: <class 'str'>\n",
      "type of variables in tuple: <class 'int'> and <class 'int'>\n",
      "\n",
      "\n",
      "key: (0, 2) , value: 3\n",
      "type of key: <class 'tuple'> , type of value: <class 'str'>\n",
      "type of variables in tuple: <class 'int'> and <class 'int'>\n",
      "\n",
      "\n",
      "key: (0, 3) , value: 0\n",
      "type of key: <class 'tuple'> , type of value: <class 'str'>\n",
      "type of variables in tuple: <class 'int'> and <class 'int'>\n",
      "\n",
      "\n"
     ]
    }
   ],
   "source": [
    "a = {\n",
    "    (0,0): 'W',\n",
    "    (0,1): 'S',\n",
    "    (0,2): '3',\n",
    "    (0,3): '0'\n",
    "}\n",
    "print(a)\n",
    "print(type(a))\n",
    "print(a.get((0,1)))\n",
    "print(\"------\\n\")\n",
    "\n",
    "for key in a:\n",
    "    print(\"key: %s , value: %s\" % (key, a[key]))\n",
    "    print(\"type of key: %s , type of value: %s\" % (type(key), type(a[key])))\n",
    "    print(\"type of variables in tuple: %s and %s\" % (type(key[0]), type(key[1])))\n",
    "    print(\"\\n\")"
   ]
  },
  {
   "cell_type": "code",
   "execution_count": 8,
   "id": "3fa570d7",
   "metadata": {},
   "outputs": [
    {
     "name": "stdout",
     "output_type": "stream",
     "text": [
      "\n",
      "\n",
      "Recursion Example Results\n",
      "1\n",
      "3\n",
      "6\n",
      "10\n",
      "15\n",
      "21\n"
     ]
    },
    {
     "data": {
      "text/plain": [
       "21"
      ]
     },
     "execution_count": 8,
     "metadata": {},
     "output_type": "execute_result"
    }
   ],
   "source": [
    "# Recursion example\n",
    "def tri_recursion(k):\n",
    "  if(k > 0):\n",
    "    result = k + tri_recursion(k - 1)\n",
    "    print(result)\n",
    "  else:\n",
    "    result = 0\n",
    "  return result\n",
    "\n",
    "print(\"\\n\\nRecursion Example Results\")\n",
    "tri_recursion(6)"
   ]
  }
 ],
 "metadata": {
  "kernelspec": {
   "display_name": "Python 3 (ipykernel)",
   "language": "python",
   "name": "python3"
  },
  "language_info": {
   "codemirror_mode": {
    "name": "ipython",
    "version": 3
   },
   "file_extension": ".py",
   "mimetype": "text/x-python",
   "name": "python",
   "nbconvert_exporter": "python",
   "pygments_lexer": "ipython3",
   "version": "3.9.13"
  }
 },
 "nbformat": 4,
 "nbformat_minor": 5
}
