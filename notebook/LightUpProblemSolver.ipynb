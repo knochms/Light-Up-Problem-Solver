{
 "cells": [
  {
   "cell_type": "markdown",
   "id": "2f0ce55e",
   "metadata": {},
   "source": [
    "# Light Up Problem Solver\n",
    "\n",
    "3 zentrale Algorithmen\n",
    " - 1: Safe Case Algorithm\n",
    " - 2: Depth-First Search (Backtrack) Algorithm (--> hier mit Recursion arbeiten)\n",
    " - 3: No Numers left Algorithmus (Light up all white fields left)"
   ]
  },
  {
   "cell_type": "code",
   "execution_count": 1,
   "id": "afad035c",
   "metadata": {},
   "outputs": [],
   "source": [
    "import math"
   ]
  },
  {
   "cell_type": "code",
   "execution_count": 2,
   "id": "38ca42f7",
   "metadata": {},
   "outputs": [],
   "source": [
    "# 1. Create Board\n",
    "# 2. Show Board\n",
    "# 3. Safe-Case-Algorithm\n",
    "# 4. Show Board\n",
    "# 5. Depth-First-Search\n",
    "# 6. Show Board\n",
    "# 7. No-Numbers-Left-Algorithm\n",
    "# 8. Show Board\n",
    "# 9. Show Result"
   ]
  },
  {
   "cell_type": "code",
   "execution_count": 3,
   "id": "730c243f",
   "metadata": {},
   "outputs": [],
   "source": [
    "# Global Variables here:\n",
    "\n",
    "# board_dict holds initial information of the board.\n",
    "# It get updated only with safe information.\n",
    "board_dict = {}\n",
    "\n",
    "# Size of the board (e.g. board_size=5 -> 5x5 Matrix).\n",
    "board_size = 0\n",
    "\n",
    "# board_dict_temp holds temporary information of the board.\n",
    "board_dict_temp = {}"
   ]
  },
  {
   "cell_type": "markdown",
   "id": "68cb9468",
   "metadata": {},
   "source": [
    "### Create the Board:"
   ]
  },
  {
   "cell_type": "code",
   "execution_count": 4,
   "id": "0f3441ea",
   "metadata": {},
   "outputs": [],
   "source": [
    "def create_board(board_string):\n",
    "    print(\"Displaying Board:\\n\")\n",
    "    board_separation_size = 7  # 'F(x,y)W' has 7 characters\n",
    "\n",
    "    # Save all coodinates of the fields and their value in a dictionary\n",
    "    for count in range(0, len(board_string), board_separation_size):\n",
    "        x = int(board_string[count:count+board_separation_size][2])\n",
    "        y = int(board_string[count:count+board_separation_size][4])\n",
    "        coordinate = (x, y)\n",
    "\n",
    "        value = board_string[count:count+board_separation_size][6]\n",
    "        board_dict[coordinate] = value\n",
    "\n",
    "    global board_size\n",
    "    board_size = math.sqrt(len(board_dict))\n",
    "    count = 1\n",
    "    # Print the board with the specific value of the fields\n",
    "    for value in board_dict.values():\n",
    "        if \"W\" in value:\n",
    "            value = \" \"\n",
    "        if (count % board_size != 0):\n",
    "            print(\"|\", value, sep='', end='')\n",
    "        else:\n",
    "            print(\"|\", value, \"|\", sep='')\n",
    "        count += 1"
   ]
  },
  {
   "cell_type": "markdown",
   "id": "a0a71f5d",
   "metadata": {},
   "source": [
    "### Safe Case Algorithm:"
   ]
  },
  {
   "cell_type": "code",
   "execution_count": 5,
   "id": "a657c210",
   "metadata": {},
   "outputs": [],
   "source": [
    "def safe_case_algorithm():\n",
    "    for coordinate, value in board_dict_temp.items():\n",
    "        place_lights(value, coordinate)\n",
    "\n",
    "    # TODO:\n",
    "    # Check if the board has changed.\n",
    "    # If yes, then update the board and iterate over the dict again\n",
    "    # If not, then there are no safe cases left\n",
    "    # if(board_dict != board_dict_temp):\n",
    "    update_board()\n",
    "    # else:\n",
    "    #    print(\"Start with 2nd or 3rd algortihm...\")"
   ]
  },
  {
   "cell_type": "code",
   "execution_count": 6,
   "id": "8feb5d34",
   "metadata": {},
   "outputs": [],
   "source": [
    "def get_field(board, coordinate):\n",
    "    x, y = coordinate[0], coordinate[1]\n",
    "    if (x < 0 or x >= board_size) or (y < 0 or y > board_size):\n",
    "        return \"OOF\"\n",
    "    return board.get(coordinate)"
   ]
  },
  {
   "cell_type": "code",
   "execution_count": 7,
   "id": "f3cda61f",
   "metadata": {},
   "outputs": [],
   "source": [
    "# Places the light sources around the field and lights up the adjacent fields\n",
    "def place_lights(field_value, coordinate):\n",
    "    if (field_value == '4'):\n",
    "        x, y = coordinate[0], coordinate[1]\n",
    "        light_source_above = (x, y-1)\n",
    "        light_source_left = (x-1, y)\n",
    "        light_source_below = (x, y+1)\n",
    "        light_source_right = (x+1, y)\n",
    "\n",
    "        # if (!get_field(board_dict_temp, light_source_above)):\n",
    "        #    print()\n",
    "\n",
    "        # Placing light source around the field\n",
    "        field_above = get_field(board_dict_temp, light_source_above)\n",
    "        field_left = get_field(board_dict_temp, light_source_left)\n",
    "        field_below = get_field(board_dict_temp, light_source_below)\n",
    "        field_right = get_field(board_dict_temp, light_source_right)\n",
    "        if (\n",
    "            (field_above == 'W' or field_above == 'L') and\n",
    "            (field_left == 'W' or field_left == 'L') and\n",
    "            (field_below == 'W' or field_below == 'L') and\n",
    "            (field_right == 'W' or field_right == 'L')\n",
    "        ):\n",
    "            board_dict_temp[light_source_above] = 'L'\n",
    "            board_dict_temp[light_source_left] = 'L'\n",
    "            board_dict_temp[light_source_below] = 'L'\n",
    "            board_dict_temp[light_source_right] = 'L'\n",
    "        else:\n",
    "            print(\"Board Error\")\n",
    "            return False  # no solution for this board\n",
    "\n",
    "        # light up the adjacent the fields\n",
    "        light_up(light_source_above)\n",
    "        light_up(light_source_left)\n",
    "        light_up(light_source_below)\n",
    "        light_up(light_source_right)\n",
    "\n",
    "    elif (field_value == '3'):\n",
    "        print()\n",
    "        # TODO: weitermachen siehe Safe Cases auf Teams\n",
    "        # - wenn ein Feld S,1,2,3,4 ist dann auf den anderen Feldern die Lichtquellen platzieren\n",
    "        # - wenn 2 oder mehr Felder mit S,1,2,3,4 sind, dann Board Error (nicht lösbar)\n",
    "        # - wenn überall W, dann weitersuchen bzw. abbrechen (noch nichts eindeutiges)\n",
    "    elif (field_value == '2'):\n",
    "        print()\n",
    "    elif (field_value == '1'):\n",
    "        print()\n",
    "    elif (field_value == '0'):\n",
    "        print()"
   ]
  },
  {
   "cell_type": "code",
   "execution_count": 8,
   "id": "2046e658",
   "metadata": {},
   "outputs": [],
   "source": [
    "def light_up(coordinate):\n",
    "    dirs = ((-1, 0), (1, 0), (0, -1), (0, 1))\n",
    "    x, y = coordinate[0], coordinate[1]\n",
    "    for dir in dirs:\n",
    "        notBlocked = True\n",
    "        i = 1\n",
    "        while notBlocked:\n",
    "            light_up = (x+dir[0]*i, y+dir[1]*i)\n",
    "            field = get_field(board_dict_temp, light_up)\n",
    "            if (field == 'W' or field == '#'):\n",
    "                board_dict_temp[light_up] = '#'\n",
    "                i += 1\n",
    "            else:\n",
    "                notBlocked = False"
   ]
  },
  {
   "cell_type": "code",
   "execution_count": 9,
   "id": "e342b4da",
   "metadata": {},
   "outputs": [],
   "source": [
    "def update_board():\n",
    "    board_dict = board_dict_temp.copy()\n",
    "    i = 1\n",
    "    # print the board with the specific value of the fields\n",
    "    for value in board_dict.values():\n",
    "        if \"W\" in value:\n",
    "            value = \" \"\n",
    "        if (i % board_size != 0):\n",
    "            print(\"|\", value, sep='', end='')\n",
    "        else:\n",
    "            print(\"|\", value, \"|\", sep='')\n",
    "        i += 1"
   ]
  },
  {
   "cell_type": "code",
   "execution_count": 10,
   "id": "b547c39d",
   "metadata": {},
   "outputs": [
    {
     "name": "stdout",
     "output_type": "stream",
     "text": [
      "Displaying Board:\n",
      "\n",
      "| | | | |1|0| | | |1|\n",
      "| |0|S| | | |1| | | |\n",
      "| | | |S| | |1| | | |\n",
      "|S| | |2| | | | |1| |\n",
      "|S| | | | |0| |S| | |\n",
      "| | |S| |1| | | | |S|\n",
      "| |4| | | | |2| | |S|\n",
      "| | | |S| | |1| | | |\n",
      "| | | |2| | | |S|3| |\n",
      "|S| | | |S|S| | | | |\n"
     ]
    }
   ],
   "source": [
    " # String example from: https://www.janko.at/Raetsel/Akari/002.a.htm\n",
    "board_string = 'F(0,0)WF(1,0)WF(2,0)WF(3,0)WF(4,0)1F(5,0)0F(6,0)WF(7,0)WF(8,0)WF(9,0)1F(0,1)WF(1,1)0F(2,1)SF(3,1)WF(4,1)WF(5,1)WF(6,1)1F(7,1)WF(8,1)WF(9,1)WF(0,2)WF(1,2)WF(2,2)WF(3,2)SF(4,2)WF(5,2)WF(6,2)1F(7,2)WF(8,2)WF(9,2)WF(0,3)SF(1,3)WF(2,3)WF(3,3)2F(4,3)WF(5,3)WF(6,3)WF(7,3)WF(8,3)1F(9,3)WF(0,4)SF(1,4)WF(2,4)WF(3,4)WF(4,4)WF(5,4)0F(6,4)WF(7,4)SF(8,4)WF(9,4)WF(0,5)WF(1,5)WF(2,5)SF(3,5)WF(4,5)1F(5,5)WF(6,5)WF(7,5)WF(8,5)WF(9,5)SF(0,6)WF(1,6)4F(2,6)WF(3,6)WF(4,6)WF(5,6)WF(6,6)2F(7,6)WF(8,6)WF(9,6)SF(0,7)WF(1,7)WF(2,7)WF(3,7)SF(4,7)WF(5,7)WF(6,7)1F(7,7)WF(8,7)WF(9,7)WF(0,8)WF(1,8)WF(2,8)WF(3,8)2F(4,8)WF(5,8)WF(6,8)WF(7,8)SF(8,8)3F(9,8)WF(0,9)SF(1,9)WF(2,9)WF(3,9)WF(4,9)SF(5,9)SF(6,9)WF(7,9)WF(8,9)WF(9,9)W'\n",
    "create_board(board_string)"
   ]
  },
  {
   "cell_type": "code",
   "execution_count": 11,
   "id": "3be8e34f",
   "metadata": {},
   "outputs": [
    {
     "name": "stdout",
     "output_type": "stream",
     "text": [
      "\n",
      "\n",
      "\n",
      "\n",
      "\n",
      "\n",
      "\n",
      "\n",
      "\n",
      "\n",
      "\n",
      "\n",
      "\n",
      "\n",
      "| | | | |1|0| | | |1|\n",
      "| |0|S| | | |1| | | |\n",
      "| |#| |S| | |1| | | |\n",
      "|S|#| |2| | | | |1| |\n",
      "|S|#| | | |0| |S| | |\n",
      "|#|L|S| |1| | | | |S|\n",
      "|L|4|L|#|#|#|2| | |S|\n",
      "|#|L|#|S| | |1| | | |\n",
      "|#|#|#|2| | | |S|3| |\n",
      "|S|#|#| |S|S| | | | |\n"
     ]
    }
   ],
   "source": [
    "board_dict_temp = board_dict.copy()\n",
    "safe_case_algorithm()"
   ]
  },
  {
   "cell_type": "markdown",
   "id": "94b5595c",
   "metadata": {},
   "source": [
    " "
   ]
  },
  {
   "cell_type": "markdown",
   "id": "26ff015c",
   "metadata": {},
   "source": [
    " "
   ]
  },
  {
   "cell_type": "markdown",
   "id": "16f3d618",
   "metadata": {},
   "source": [
    " "
   ]
  },
  {
   "cell_type": "code",
   "execution_count": null,
   "id": "5cc1d053",
   "metadata": {},
   "outputs": [],
   "source": [
    "  "
   ]
  },
  {
   "cell_type": "markdown",
   "id": "694cc78f",
   "metadata": {},
   "source": [
    "# Testing Stuff:"
   ]
  },
  {
   "cell_type": "code",
   "execution_count": 12,
   "id": "3fa570d7",
   "metadata": {},
   "outputs": [],
   "source": [
    "# Recursion example\n",
    "#def tri_recursion(k):\n",
    "#  if(k > 0):\n",
    "#    result = k + tri_recursion(k - 1)\n",
    "#    print(result)\n",
    "#  else:\n",
    "#    result = 0\n",
    "#  return result\n",
    "#\n",
    "#print(\"\\n\\nRecursion Example Results\")\n",
    "#tri_recursion(6)"
   ]
  }
 ],
 "metadata": {
  "kernelspec": {
   "display_name": "Python 3 (ipykernel)",
   "language": "python",
   "name": "python3"
  },
  "language_info": {
   "codemirror_mode": {
    "name": "ipython",
    "version": 3
   },
   "file_extension": ".py",
   "mimetype": "text/x-python",
   "name": "python",
   "nbconvert_exporter": "python",
   "pygments_lexer": "ipython3",
   "version": "3.9.13"
  }
 },
 "nbformat": 4,
 "nbformat_minor": 5
}
