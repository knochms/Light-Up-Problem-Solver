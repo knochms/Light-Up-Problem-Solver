{
 "cells": [
  {
   "cell_type": "code",
   "execution_count": 3,
   "id": "8485f822",
   "metadata": {},
   "outputs": [],
   "source": [
    "# 3 zentrale Algorithmen\n",
    "# - 1: Safe Case Algorithm\n",
    "# - 2: Depth-First Search (Backtrack) Algorithm\n",
    "# - 3: No Numers left Algorithmus (Light up all white Cells left)"
   ]
  },
  {
   "cell_type": "code",
   "execution_count": 5,
   "id": "0f3441ea",
   "metadata": {},
   "outputs": [
    {
     "name": "stdout",
     "output_type": "stream",
     "text": [
      "Please solve Light-Up-Problem really quick with no Errors :')\n"
     ]
    }
   ],
   "source": [
    "print(\"Please solve Light-Up-Problem really quick with no Errors :')\")"
   ]
  },
  {
   "cell_type": "code",
   "execution_count": null,
   "id": "3fa570d7",
   "metadata": {},
   "outputs": [],
   "source": []
  }
 ],
 "metadata": {
  "kernelspec": {
   "display_name": "Python 3 (ipykernel)",
   "language": "python",
   "name": "python3"
  },
  "language_info": {
   "codemirror_mode": {
    "name": "ipython",
    "version": 3
   },
   "file_extension": ".py",
   "mimetype": "text/x-python",
   "name": "python",
   "nbconvert_exporter": "python",
   "pygments_lexer": "ipython3",
   "version": "3.9.13"
  }
 },
 "nbformat": 4,
 "nbformat_minor": 5
}
