{
 "cells": [
  {
   "cell_type": "markdown",
   "id": "2f0ce55e",
   "metadata": {},
   "source": [
    "# Light Up Problem Solver\n",
    "\n",
    "3 zentrale Algorithmen\n",
    " - 1: Safe Case Algorithm\n",
    " - 2: Depth-First Search (Backtrack) Algorithm (--> hier mit Recursion arbeiten)\n",
    " - 3: No Numers left Algorithmus (Light up all white fields left)"
   ]
  },
  {
   "cell_type": "code",
   "execution_count": 1,
   "id": "730c243f",
   "metadata": {},
   "outputs": [],
   "source": [
    "# Global Variables here:\n",
    "\n",
    "# board_dict holds initial information of the board.\n",
    "# It get updated only with safe information.\n",
    "board_dict = {}\n",
    "\n",
    "# Size of the board (e.g. board_size=5 -> 5x5 Matrix). \n",
    "board_size = 0\n",
    "\n",
    "# board_dict2 holds temporary information of the board.\n",
    "board_dict2 = {}"
   ]
  },
  {
   "cell_type": "markdown",
   "id": "aa04071a",
   "metadata": {},
   "source": [
    "### Create the Board:"
   ]
  },
  {
   "cell_type": "code",
   "execution_count": 2,
   "id": "0f3441ea",
   "metadata": {},
   "outputs": [],
   "source": [
    "import math\n",
    "\n",
    "def create_board(board):\n",
    "    print(\"Displaying Board:\\n\")\n",
    "    board_separation_size = 7; #'F(x,y)W' has 7 characters\n",
    "    \n",
    "    # Save all coodinates of the fields and their value in a dictionary\n",
    "    for i in range(0, len(board), board_separation_size):\n",
    "\n",
    "        x = int(board[i:i+board_separation_size][2])\n",
    "        y = int(board[i:i+board_separation_size][4])\n",
    "        xy = (x,y)\n",
    "        \n",
    "        value = board[i:i+board_separation_size][6]\n",
    "        \n",
    "        board_dict[xy] = value\n",
    "    \n",
    "    \n",
    "    global board_size \n",
    "    board_size = math.sqrt(len(board_dict))\n",
    "    i = 1\n",
    "    # print the board with the specific value of the fields\n",
    "    for value in board_dict.values():\n",
    "        if \"W\" in value:\n",
    "            value = \" \"\n",
    "        if (i % board_size != 0):\n",
    "            print(\"|\", value, sep='', end ='')\n",
    "        else:\n",
    "            print(\"|\", value, \"|\", sep='')\n",
    "        i += 1    "
   ]
  },
  {
   "cell_type": "code",
   "execution_count": 3,
   "id": "f5f498e8",
   "metadata": {},
   "outputs": [
    {
     "name": "stdout",
     "output_type": "stream",
     "text": [
      "Displaying Board:\n",
      "\n",
      "| | | | |1|0| | | |1|\n",
      "| |0|S| | | |1| | | |\n",
      "| | | |S| | |1| | | |\n",
      "|S| | |2| | | | |1| |\n",
      "|S| | | | |0| |S| | |\n",
      "| | |S| |1| | | | |S|\n",
      "| |4| | | | |2| | |S|\n",
      "| | | |S| | |1| | | |\n",
      "| | | |2| | | |S|3| |\n",
      "|S| | | |S|S| | | | |\n"
     ]
    }
   ],
   "source": [
    "# String example from: https://www.janko.at/Raetsel/Akari/002.a.htm\n",
    "board_string1 = 'F(0,0)WF(1,0)WF(2,0)WF(3,0)WF(4,0)1F(5,0)0F(6,0)WF(7,0)WF(8,0)WF(9,0)1F(0,1)WF(1,1)0F(2,1)SF(3,1)WF(4,1)WF(5,1)WF(6,1)1F(7,1)WF(8,1)WF(9,1)WF(0,2)WF(1,2)WF(2,2)WF(3,2)SF(4,2)WF(5,2)WF(6,2)1F(7,2)WF(8,2)WF(9,2)WF(0,3)SF(1,3)WF(2,3)WF(3,3)2F(4,3)WF(5,3)WF(6,3)WF(7,3)WF(8,3)1F(9,3)WF(0,4)SF(1,4)WF(2,4)WF(3,4)WF(4,4)WF(5,4)0F(6,4)WF(7,4)SF(8,4)WF(9,4)WF(0,5)WF(1,5)WF(2,5)SF(3,5)WF(4,5)1F(5,5)WF(6,5)WF(7,5)WF(8,5)WF(9,5)SF(0,6)WF(1,6)4F(2,6)WF(3,6)WF(4,6)WF(5,6)WF(6,6)2F(7,6)WF(8,6)WF(9,6)SF(0,7)WF(1,7)WF(2,7)WF(3,7)SF(4,7)WF(5,7)WF(6,7)1F(7,7)WF(8,7)WF(9,7)WF(0,8)WF(1,8)WF(2,8)WF(3,8)2F(4,8)WF(5,8)WF(6,8)WF(7,8)SF(8,8)3F(9,8)WF(0,9)SF(1,9)WF(2,9)WF(3,9)WF(4,9)SF(5,9)SF(6,9)WF(7,9)WF(8,9)WF(9,9)W'\n",
    "create_board(board_string1)"
   ]
  },
  {
   "cell_type": "markdown",
   "id": "a0a71f5d",
   "metadata": {},
   "source": [
    "### Safe Case Algorithm:"
   ]
  },
  {
   "cell_type": "code",
   "execution_count": 4,
   "id": "a657c210",
   "metadata": {},
   "outputs": [],
   "source": [
    "def safe_case_algorithm():\n",
    "    for coordinate, value in board_dict2.items():\n",
    "        if(value == '4'):\n",
    "            place_lights('4', coordinate)\n",
    "        elif(value == '3'):\n",
    "            place_lights('3', coordinate)\n",
    "        elif(value == '2'):\n",
    "            place_lights('2', coordinate)\n",
    "        elif(value == '1'):\n",
    "            place_lights('1', coordinate)\n",
    "        elif(value == '0'):\n",
    "            place_lights('0', coordinate)\n",
    "    # TODO:\n",
    "    # Check if the board has changed. \n",
    "    # If yes, then update the board and iterate over the dict again\n",
    "    # If not, then there are no safe cases left       \n",
    "    #if(board_dict != board_dict2):\n",
    "    update_board()\n",
    "    #else:\n",
    "    #    print(\"Start with 2nd or 3rd algortihm...\")\n",
    "\n",
    "\n",
    "# Places the light sources around the field and lights up the adjacent fields\n",
    "def place_lights(field_value, coordinate):\n",
    "    if(field_value == '4'):\n",
    "        light_source_above = (coordinate[0], coordinate[1]-1)\n",
    "        light_source_left  = (coordinate[0]-1, coordinate[1])\n",
    "        light_source_below = (coordinate[0], coordinate[1]+1)\n",
    "        light_source_right = (coordinate[0]+1, coordinate[1])\n",
    "\n",
    "        # Placing light source around the field\n",
    "        if((board_dict2.get(light_source_above) == 'W' or board_dict2.get(light_source_above) == 'L' or board_dict2.get(light_source_above) == '#') and \n",
    "           (board_dict2.get(light_source_left) == 'W' or board_dict2.get(light_source_left) == 'L' or board_dict2.get(light_source_left) == '#') and \n",
    "            (board_dict2.get(light_source_below) == 'W' or board_dict2.get(light_source_below) == 'L' or board_dict2.get(light_source_below) == '#') and \n",
    "            (board_dict2.get(light_source_right) == 'W' or board_dict2.get(light_source_right) == 'L' or board_dict2.get(light_source_right) == '#')):\n",
    "            board_dict2[light_source_above] = 'L'\n",
    "            board_dict2[light_source_left]  = 'L'\n",
    "            board_dict2[light_source_below] = 'L'\n",
    "            board_dict2[light_source_right] = 'L'\n",
    "        else:\n",
    "            print(\"Board Error\")\n",
    "            return False # no solution for this board\n",
    "\n",
    "        # light up the adjacent the fields\n",
    "        light_up(\"above\", light_source_above)\n",
    "        light_up(\"left\", light_source_left)\n",
    "        light_up(\"below\", light_source_below)\n",
    "        light_up(\"right\", light_source_right)\n",
    "        \n",
    "    elif(field_value == '3'):\n",
    "        print(\"Todo3\")\n",
    "        # TODO: weitermachen siehe Safe Cases auf Teams\n",
    "        # - wenn ein Feld S,1,2,3,4 ist dann auf den anderen Feldern die Lichtquellen platzieren\n",
    "        # - wenn 2 oder mehr Felder mit S,1,2,3,4 sind, dann Board Error (nicht lösbar)\n",
    "        # - wenn überall W, dann weitersuchen bzw. abbrechen (noch nichts eindeutiges)\n",
    "    elif(field_value == '2'):\n",
    "        print(\"Todo2\")\n",
    "    elif(field_value == '1'):\n",
    "        print(\"Todo1\")\n",
    "    elif(field_value == '0'):\n",
    "        print(\"Todo0\")    \n",
    "        "
   ]
  },
  {
   "cell_type": "code",
   "execution_count": 5,
   "id": "f3cda61f",
   "metadata": {},
   "outputs": [],
   "source": [
    "# lights up all the adjacent fields around the light source\n",
    "def light_up(direction, coordinate):\n",
    "    try:\n",
    "        if(direction == \"above\"):\n",
    "            light_up_above(coordinate)\n",
    "            light_up_left(coordinate)\n",
    "            light_up_right(coordinate)\n",
    "            return True\n",
    "        elif(direction == \"left\"):\n",
    "            light_up_above(coordinate)\n",
    "            light_up_left(coordinate)\n",
    "            light_up_below(coordinate)\n",
    "            return True\n",
    "        elif(direction == \"below\"):\n",
    "            light_up_left(coordinate)\n",
    "            light_up_below(coordinate)\n",
    "            light_up_right(coordinate)\n",
    "            return True\n",
    "        elif(direction == \"right\"):\n",
    "            light_up_above(coordinate)\n",
    "            light_up_below(coordinate)\n",
    "            light_up_right(coordinate)\n",
    "            return True\n",
    "        else:\n",
    "            print(\"Wrong light_up input!\")\n",
    "            return False\n",
    "    except Exception as e:\n",
    "        print(\"This Case is invalid: \" + repr(e))\n",
    "        \n",
    "    \n",
    "def light_up_above(coordinate):\n",
    "    i = 1\n",
    "    while True:\n",
    "        light_up = (coordinate[0], coordinate[1]-i)\n",
    "        if(board_dict2.get(light_up) == 'W'):\n",
    "            board_dict2[light_up] = '#'\n",
    "            i += 1\n",
    "        elif(board_dict2.get(light_up) == '#'):\n",
    "            i += 1\n",
    "        elif(board_dict2.get(light_up) is None):\n",
    "            break\n",
    "        elif(board_dict2.get(light_up) == 'L'):\n",
    "            raise Exception(\"This light illuminates another light\")\n",
    "            break\n",
    "        else:\n",
    "            break\n",
    "        \n",
    "def light_up_left(coordinate):\n",
    "    i = 1\n",
    "    while True:\n",
    "        light_up = (coordinate[0]-i, coordinate[1])\n",
    "        if(board_dict2.get(light_up) == 'W'):\n",
    "            board_dict2[light_up] = '#'\n",
    "            i += 1\n",
    "        elif(board_dict2.get(light_up) == '#'):\n",
    "            i += 1\n",
    "        elif(board_dict2.get(light_up) is None):\n",
    "            break\n",
    "        elif(board_dict2.get(light_up) == 'L'):\n",
    "            raise Exception(\"This light illuminates another light\")\n",
    "            break\n",
    "        else:\n",
    "            break\n",
    "            \n",
    "def light_up_below(coordinate):\n",
    "    i = 1\n",
    "    while True:\n",
    "        light_up = (coordinate[0], coordinate[1]+i)\n",
    "        if(board_dict2.get(light_up) == 'W'):\n",
    "            board_dict2[light_up] = '#'\n",
    "            i += 1\n",
    "        elif(board_dict2.get(light_up) == '#'):\n",
    "            i += 1\n",
    "        elif(board_dict2.get(light_up) is None):\n",
    "            break\n",
    "        elif(board_dict2.get(light_up) == 'L'):\n",
    "            raise Exception(\"This light illuminates another light\")\n",
    "            break\n",
    "        else:\n",
    "            break \n",
    "\n",
    "def light_up_right(coordinate):\n",
    "    i = 1\n",
    "    while True:\n",
    "        light_up = (coordinate[0]+i, coordinate[1])\n",
    "        if(board_dict2.get(light_up) == 'W'):\n",
    "            board_dict2[light_up] = '#'\n",
    "            i += 1\n",
    "        elif(board_dict2.get(light_up) == '#'):\n",
    "            i += 1\n",
    "        elif(board_dict2.get(light_up) is None):\n",
    "            break\n",
    "        elif(board_dict2.get(light_up) == 'L'):\n",
    "            raise Exception(\"This light illuminates another light\")\n",
    "            break\n",
    "        else:\n",
    "            break\n"
   ]
  },
  {
   "cell_type": "code",
   "execution_count": 6,
   "id": "e342b4da",
   "metadata": {},
   "outputs": [],
   "source": [
    "def update_board():\n",
    "    board_dict = board_dict2.copy()\n",
    "    i = 1\n",
    "    # print the board with the specific value of the fields\n",
    "    for value in board_dict.values():\n",
    "        if \"W\" in value:\n",
    "            value = \" \"\n",
    "        if (i % board_size != 0):\n",
    "            print(\"|\", value, sep='', end ='')\n",
    "        else:\n",
    "            print(\"|\", value, \"|\", sep='')\n",
    "        i += 1"
   ]
  },
  {
   "cell_type": "code",
   "execution_count": 7,
   "id": "ef5f8334",
   "metadata": {},
   "outputs": [
    {
     "name": "stdout",
     "output_type": "stream",
     "text": [
      "Todo1\n",
      "Todo0\n",
      "Todo1\n",
      "Todo0\n",
      "Todo1\n",
      "Todo1\n",
      "Todo2\n",
      "Todo1\n",
      "Todo0\n",
      "Todo1\n",
      "Todo2\n",
      "Todo1\n",
      "Todo2\n",
      "Todo3\n",
      "| | | | |1|0| | | |1|\n",
      "| |0|S| | | |1| | | |\n",
      "| |#| |S| | |1| | | |\n",
      "|S|#| |2| | | | |1| |\n",
      "|S|#| | | |0| |S| | |\n",
      "|#|L|S| |1| | | | |S|\n",
      "|L|4|L|#|#|#|2| | |S|\n",
      "|#|L|#|S| | |1| | | |\n",
      "|#|#|#|2| | | |S|3| |\n",
      "|S|#|#| |S|S| | | | |\n"
     ]
    }
   ],
   "source": [
    "board_dict2 = board_dict.copy()\n",
    "safe_case_algorithm()"
   ]
  },
  {
   "cell_type": "code",
   "execution_count": null,
   "id": "1226606c",
   "metadata": {},
   "outputs": [],
   "source": [
    " "
   ]
  },
  {
   "cell_type": "markdown",
   "id": "94b5595c",
   "metadata": {},
   "source": [
    " "
   ]
  },
  {
   "cell_type": "markdown",
   "id": "26ff015c",
   "metadata": {},
   "source": [
    " "
   ]
  },
  {
   "cell_type": "markdown",
   "id": "16f3d618",
   "metadata": {},
   "source": [
    " "
   ]
  },
  {
   "cell_type": "markdown",
   "id": "abd79d74",
   "metadata": {},
   "source": [
    " "
   ]
  },
  {
   "cell_type": "markdown",
   "id": "694cc78f",
   "metadata": {},
   "source": [
    "# Testing Stuff:"
   ]
  },
  {
   "cell_type": "code",
   "execution_count": 8,
   "id": "2785f0a1",
   "metadata": {},
   "outputs": [
    {
     "name": "stdout",
     "output_type": "stream",
     "text": [
      "{(0, 0): 'W', (0, 1): 'S', (0, 2): '3', (0, 3): '0'}\n",
      "<class 'dict'>\n",
      "S\n",
      "------\n",
      "\n",
      "key: (0, 0) , value: W\n",
      "type of key: <class 'tuple'> , type of value: <class 'str'>\n",
      "type of variables in tuple: <class 'int'> and <class 'int'>\n",
      "\n",
      "\n",
      "key: (0, 1) , value: S\n",
      "type of key: <class 'tuple'> , type of value: <class 'str'>\n",
      "type of variables in tuple: <class 'int'> and <class 'int'>\n",
      "\n",
      "\n",
      "key: (0, 2) , value: 3\n",
      "type of key: <class 'tuple'> , type of value: <class 'str'>\n",
      "type of variables in tuple: <class 'int'> and <class 'int'>\n",
      "\n",
      "\n",
      "key: (0, 3) , value: 0\n",
      "type of key: <class 'tuple'> , type of value: <class 'str'>\n",
      "type of variables in tuple: <class 'int'> and <class 'int'>\n",
      "\n",
      "\n"
     ]
    }
   ],
   "source": [
    "a = {\n",
    "    (0,0): 'W',\n",
    "    (0,1): 'S',\n",
    "    (0,2): '3',\n",
    "    (0,3): '0'\n",
    "}\n",
    "print(a)\n",
    "print(type(a))\n",
    "print(a.get((0,1)))\n",
    "print(\"------\\n\")\n",
    "\n",
    "for key in a:\n",
    "    print(\"key: %s , value: %s\" % (key, a[key]))\n",
    "    print(\"type of key: %s , type of value: %s\" % (type(key), type(a[key])))\n",
    "    print(\"type of variables in tuple: %s and %s\" % (type(key[0]), type(key[1])))\n",
    "    print(\"\\n\")"
   ]
  },
  {
   "cell_type": "code",
   "execution_count": 9,
   "id": "3fa570d7",
   "metadata": {},
   "outputs": [
    {
     "name": "stdout",
     "output_type": "stream",
     "text": [
      "\n",
      "\n",
      "Recursion Example Results\n",
      "1\n",
      "3\n",
      "6\n",
      "10\n",
      "15\n",
      "21\n"
     ]
    },
    {
     "data": {
      "text/plain": [
       "21"
      ]
     },
     "execution_count": 9,
     "metadata": {},
     "output_type": "execute_result"
    }
   ],
   "source": [
    "# Recursion example\n",
    "def tri_recursion(k):\n",
    "  if(k > 0):\n",
    "    result = k + tri_recursion(k - 1)\n",
    "    print(result)\n",
    "  else:\n",
    "    result = 0\n",
    "  return result\n",
    "\n",
    "print(\"\\n\\nRecursion Example Results\")\n",
    "tri_recursion(6)"
   ]
  }
 ],
 "metadata": {
  "kernelspec": {
   "display_name": "Python 3 (ipykernel)",
   "language": "python",
   "name": "python3"
  },
  "language_info": {
   "codemirror_mode": {
    "name": "ipython",
    "version": 3
   },
   "file_extension": ".py",
   "mimetype": "text/x-python",
   "name": "python",
   "nbconvert_exporter": "python",
   "pygments_lexer": "ipython3",
   "version": "3.9.13"
  }
 },
 "nbformat": 4,
 "nbformat_minor": 5
}
