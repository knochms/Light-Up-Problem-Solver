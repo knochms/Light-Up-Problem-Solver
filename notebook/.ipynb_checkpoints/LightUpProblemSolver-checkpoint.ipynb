{
 "cells": [
  {
   "cell_type": "code",
   "execution_count": 1,
   "id": "8485f822",
   "metadata": {},
   "outputs": [],
   "source": [
    "# 3 zentrale Algorithmen\n",
    "# - 1: Safe Case Algorithm\n",
    "# - 2: Depth-First Search (Backtrack) Algorithm\n",
    "# - 3: No Numers left Algorithmus (Light up all white Cells left)"
   ]
  },
  {
   "cell_type": "code",
   "execution_count": 2,
   "id": "0f3441ea",
   "metadata": {},
   "outputs": [],
   "source": [
    "# 1. Input (String) in Map speichern und in Konsole ausgeben\n",
    "\n",
    "def create_field(field):\n",
    "    print(\"Displaying Field:\")\n",
    "    field_dict = {}\n",
    "    field_separation_size = 7; # e.g.'F(0,0)W' has 7 chars\n",
    "    \n",
    "    \n",
    "    for i in range(0, len(field), field_separation_size):\n",
    "\n",
    "        x = int(field[i:i+field_separation_size][2])\n",
    "        y = int(field[i:i+field_separation_size][4])\n",
    "        xy = (x,y)\n",
    "        \n",
    "        value = field[i:i+field_separation_size][6]\n",
    "        \n",
    "        field_dict[xy] = value\n",
    "\n",
    "    print(field_dict)\n",
    "    \n",
    "    # TODO:\n",
    "    # Wurzel ziehen für nxn Matrix, Display schön :)"
   ]
  },
  {
   "cell_type": "code",
   "execution_count": 3,
   "id": "fd083ba4",
   "metadata": {
    "scrolled": true
   },
   "outputs": [
    {
     "name": "stdout",
     "output_type": "stream",
     "text": [
      "Displaying Field:\n",
      "{(0, 0): 'W', (1, 0): 'W', (2, 0): 'W', (3, 0): 'W', (4, 0): '1', (5, 0): '0', (6, 0): 'W', (7, 0): 'W', (8, 0): 'W', (9, 0): '1', (0, 1): 'W', (1, 1): '0', (2, 1): 'S', (3, 1): 'W', (4, 1): 'W', (5, 1): 'W', (6, 1): '1', (7, 1): 'W', (8, 1): 'W', (9, 1): 'W', (0, 2): 'W', (1, 2): 'W', (2, 2): 'W', (3, 2): 'S', (4, 2): 'W', (5, 2): 'W', (6, 2): '1', (7, 2): 'W', (8, 2): 'W', (9, 2): 'W', (0, 3): 'S', (1, 3): 'W', (2, 3): 'W', (3, 3): '2', (4, 3): 'W', (5, 3): 'W', (6, 3): 'W', (7, 3): 'W', (8, 3): '1', (9, 3): 'W', (0, 4): 'S', (1, 4): 'W', (2, 4): 'W', (3, 4): 'W', (4, 4): 'W', (5, 4): '0', (6, 4): 'W', (7, 4): 'S', (8, 4): 'W', (9, 4): 'W', (0, 5): 'W', (1, 5): 'W', (2, 5): 'S', (3, 5): 'W', (4, 5): '1', (5, 5): 'W', (6, 5): 'W', (7, 5): 'W', (8, 5): 'W', (9, 5): 'S', (0, 6): 'W', (1, 6): '4', (2, 6): 'W', (3, 6): 'W', (4, 6): 'W', (5, 6): 'W', (6, 6): '2', (7, 6): 'W', (8, 6): 'W', (9, 6): 'S', (0, 7): 'W', (1, 7): 'W', (2, 7): 'W', (3, 7): 'S', (4, 7): 'W', (5, 7): 'W', (6, 7): '1', (7, 7): 'W', (8, 7): 'W', (9, 7): 'W', (0, 8): 'W', (1, 8): 'W', (2, 8): 'W', (3, 8): '2', (4, 8): 'W', (5, 8): 'W', (6, 8): 'W', (7, 8): 'S', (8, 8): '3', (9, 8): 'W', (0, 9): 'S', (1, 9): 'W', (2, 9): 'W', (3, 9): 'W', (4, 9): 'S', (5, 9): 'S', (6, 9): 'W', (7, 9): 'W', (8, 9): 'W', (9, 9): 'W'}\n"
     ]
    }
   ],
   "source": [
    "# From: https://www.janko.at/Raetsel/Akari/002.a.htm\n",
    "# TODO: Anleitung änderung an der Matrixkodierung\n",
    "\n",
    "field_string1 = 'F(0,0)WF(1,0)WF(2,0)WF(3,0)WF(4,0)1F(5,0)0F(6,0)WF(7,0)WF(8,0)WF(9,0)1F(0,1)WF(1,1)0F(2,1)SF(3,1)WF(4,1)WF(5,1)WF(6,1)1F(7,1)WF(8,1)WF(9,1)WF(0,2)WF(1,2)WF(2,2)WF(3,2)SF(4,2)WF(5,2)WF(6,2)1F(7,2)WF(8,2)WF(9,2)WF(0,3)SF(1,3)WF(2,3)WF(3,3)2F(4,3)WF(5,3)WF(6,3)WF(7,3)WF(8,3)1F(9,3)WF(0,4)SF(1,4)WF(2,4)WF(3,4)WF(4,4)WF(5,4)0F(6,4)WF(7,4)SF(8,4)WF(9,4)WF(0,5)WF(1,5)WF(2,5)SF(3,5)WF(4,5)1F(5,5)WF(6,5)WF(7,5)WF(8,5)WF(9,5)SF(0,6)WF(1,6)4F(2,6)WF(3,6)WF(4,6)WF(5,6)WF(6,6)2F(7,6)WF(8,6)WF(9,6)SF(0,7)WF(1,7)WF(2,7)WF(3,7)SF(4,7)WF(5,7)WF(6,7)1F(7,7)WF(8,7)WF(9,7)WF(0,8)WF(1,8)WF(2,8)WF(3,8)2F(4,8)WF(5,8)WF(6,8)WF(7,8)SF(8,8)3F(9,8)WF(0,9)SF(1,9)WF(2,9)WF(3,9)WF(4,9)SF(5,9)SF(6,9)WF(7,9)WF(8,9)WF(9,9)W'\n",
    "create_field(field_string1)"
   ]
  },
  {
   "cell_type": "code",
   "execution_count": 4,
   "id": "2785f0a1",
   "metadata": {},
   "outputs": [
    {
     "name": "stdout",
     "output_type": "stream",
     "text": [
      "{(0, 0): 'W', (0, 1): 'S', (0, 2): '3', (0, 3): '0'}\n",
      "<class 'dict'>\n",
      "S\n",
      "------\n",
      "\n",
      "key: (0, 0) , value: W\n",
      "type of key: <class 'tuple'> , type of value: <class 'str'>\n",
      "type of variables in tuple: <class 'int'> and <class 'int'>\n",
      "\n",
      "\n",
      "key: (0, 1) , value: S\n",
      "type of key: <class 'tuple'> , type of value: <class 'str'>\n",
      "type of variables in tuple: <class 'int'> and <class 'int'>\n",
      "\n",
      "\n",
      "key: (0, 2) , value: 3\n",
      "type of key: <class 'tuple'> , type of value: <class 'str'>\n",
      "type of variables in tuple: <class 'int'> and <class 'int'>\n",
      "\n",
      "\n",
      "key: (0, 3) , value: 0\n",
      "type of key: <class 'tuple'> , type of value: <class 'str'>\n",
      "type of variables in tuple: <class 'int'> and <class 'int'>\n",
      "\n",
      "\n"
     ]
    }
   ],
   "source": [
    "a = {\n",
    "    (0,0): 'W',\n",
    "    (0,1): 'S',\n",
    "    (0,2): '3',\n",
    "    (0,3): '0'\n",
    "}\n",
    "print(a)\n",
    "print(type(a))\n",
    "print(a.get((0,1)))\n",
    "print(\"------\\n\")\n",
    "\n",
    "for key in a:\n",
    "    print(\"key: %s , value: %s\" % (key, a[key]))\n",
    "    print(\"type of key: %s , type of value: %s\" % (type(key), type(a[key])))\n",
    "    print(\"type of variables in tuple: %s and %s\" % (type(key[0]), type(key[1])))\n",
    "    print(\"\\n\")"
   ]
  },
  {
   "cell_type": "code",
   "execution_count": null,
   "id": "1844d858",
   "metadata": {},
   "outputs": [],
   "source": []
  },
  {
   "cell_type": "code",
   "execution_count": null,
   "id": "5ce88f77",
   "metadata": {},
   "outputs": [],
   "source": []
  },
  {
   "cell_type": "code",
   "execution_count": 6,
   "id": "3fa570d7",
   "metadata": {},
   "outputs": [
    {
     "name": "stdout",
     "output_type": "stream",
     "text": [
      "\n",
      "\n",
      "Recursion Example Results\n",
      "1\n",
      "3\n",
      "6\n",
      "10\n",
      "15\n",
      "21\n"
     ]
    },
    {
     "data": {
      "text/plain": [
       "21"
      ]
     },
     "execution_count": 6,
     "metadata": {},
     "output_type": "execute_result"
    }
   ],
   "source": [
    "# Recursion example\n",
    "def tri_recursion(k):\n",
    "  if(k > 0):\n",
    "    result = k + tri_recursion(k - 1)\n",
    "    print(result)\n",
    "  else:\n",
    "    result = 0\n",
    "  return result\n",
    "\n",
    "print(\"\\n\\nRecursion Example Results\")\n",
    "tri_recursion(6)"
   ]
  }
 ],
 "metadata": {
  "kernelspec": {
   "display_name": "Python 3 (ipykernel)",
   "language": "python",
   "name": "python3"
  },
  "language_info": {
   "codemirror_mode": {
    "name": "ipython",
    "version": 3
   },
   "file_extension": ".py",
   "mimetype": "text/x-python",
   "name": "python",
   "nbconvert_exporter": "python",
   "pygments_lexer": "ipython3",
   "version": "3.9.13"
  }
 },
 "nbformat": 4,
 "nbformat_minor": 5
}
